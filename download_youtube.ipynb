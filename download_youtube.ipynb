{
 "cells": [
  {
   "cell_type": "code",
   "execution_count": null,
   "metadata": {},
   "outputs": [],
   "source": [
    "from pytube import YouTube\n",
    "yt=YouTube('https://www.youtube.com/watch?v=9OF9CFdy-80')\n",
    "print(\"影片名稱:\"+yt.title)\n",
    "print('影片格式共有'+str(len(yt.streams))+'種')\n",
    "print('影片型態為mp4且影像及聲音都有的影片:')\n",
    "print(yt.streams.filter(subtype='mp4',progressive=True))\n",
    "print('開始下載mp4 360p的影片:')\n",
    "pathdir='d:\\\\tem'\n",
    "#下載mp4 360p的影片\n",
    "yt.streams.filter(subtype='mp4',res='360p',progressive=True).first().download(pathdir)\n",
    "print('影片下載完成下載檔案儲存於'+pathdir+'資料夾')"
   ]
  }
 ],
 "metadata": {
  "kernelspec": {
   "display_name": "Python 3",
   "language": "python",
   "name": "python3"
  },
  "language_info": {
   "codemirror_mode": {
    "name": "ipython",
    "version": 3
   },
   "file_extension": ".py",
   "mimetype": "text/x-python",
   "name": "python",
   "nbconvert_exporter": "python",
   "pygments_lexer": "ipython3",
   "version": "3.6.10"
  }
 },
 "nbformat": 4,
 "nbformat_minor": 4
}
